{
 "cells": [
  {
   "cell_type": "code",
   "execution_count": 59,
   "metadata": {
    "vscode": {
     "languageId": "shellscript"
    }
   },
   "outputs": [
    {
     "name": "stdout",
     "output_type": "stream",
     "text": [
      "Defaulting to user installation because normal site-packages is not writeable\n",
      "Requirement already satisfied: ipykernel in /Users/hallow/Library/Python/3.9/lib/python/site-packages (from -r requirements.txt (line 1)) (6.29.5)\n",
      "Requirement already satisfied: pandas in /Users/hallow/Library/Python/3.9/lib/python/site-packages (from -r requirements.txt (line 2)) (2.2.3)\n",
      "Requirement already satisfied: appnope in /Users/hallow/Library/Python/3.9/lib/python/site-packages (from ipykernel->-r requirements.txt (line 1)) (0.1.4)\n",
      "Requirement already satisfied: comm>=0.1.1 in /Users/hallow/Library/Python/3.9/lib/python/site-packages (from ipykernel->-r requirements.txt (line 1)) (0.2.2)\n",
      "Requirement already satisfied: debugpy>=1.6.5 in /Users/hallow/Library/Python/3.9/lib/python/site-packages (from ipykernel->-r requirements.txt (line 1)) (1.8.12)\n",
      "Requirement already satisfied: ipython>=7.23.1 in /Users/hallow/Library/Python/3.9/lib/python/site-packages (from ipykernel->-r requirements.txt (line 1)) (8.18.1)\n",
      "Requirement already satisfied: jupyter-client>=6.1.12 in /Users/hallow/Library/Python/3.9/lib/python/site-packages (from ipykernel->-r requirements.txt (line 1)) (8.6.3)\n",
      "Requirement already satisfied: jupyter-core!=5.0.*,>=4.12 in /Users/hallow/Library/Python/3.9/lib/python/site-packages (from ipykernel->-r requirements.txt (line 1)) (5.7.2)\n",
      "Requirement already satisfied: matplotlib-inline>=0.1 in /Users/hallow/Library/Python/3.9/lib/python/site-packages (from ipykernel->-r requirements.txt (line 1)) (0.1.7)\n",
      "Requirement already satisfied: nest-asyncio in /Users/hallow/Library/Python/3.9/lib/python/site-packages (from ipykernel->-r requirements.txt (line 1)) (1.6.0)\n",
      "Requirement already satisfied: packaging in /Users/hallow/Library/Python/3.9/lib/python/site-packages (from ipykernel->-r requirements.txt (line 1)) (24.2)\n",
      "Requirement already satisfied: psutil in /Users/hallow/Library/Python/3.9/lib/python/site-packages (from ipykernel->-r requirements.txt (line 1)) (6.1.1)\n",
      "Requirement already satisfied: pyzmq>=24 in /Users/hallow/Library/Python/3.9/lib/python/site-packages (from ipykernel->-r requirements.txt (line 1)) (26.2.0)\n",
      "Requirement already satisfied: tornado>=6.1 in /Users/hallow/Library/Python/3.9/lib/python/site-packages (from ipykernel->-r requirements.txt (line 1)) (6.4.2)\n",
      "Requirement already satisfied: traitlets>=5.4.0 in /Users/hallow/Library/Python/3.9/lib/python/site-packages (from ipykernel->-r requirements.txt (line 1)) (5.14.3)\n",
      "Requirement already satisfied: numpy>=1.22.4 in /Users/hallow/Library/Python/3.9/lib/python/site-packages (from pandas->-r requirements.txt (line 2)) (2.0.2)\n",
      "Requirement already satisfied: python-dateutil>=2.8.2 in /Users/hallow/Library/Python/3.9/lib/python/site-packages (from pandas->-r requirements.txt (line 2)) (2.9.0.post0)\n",
      "Requirement already satisfied: pytz>=2020.1 in /Users/hallow/Library/Python/3.9/lib/python/site-packages (from pandas->-r requirements.txt (line 2)) (2024.2)\n",
      "Requirement already satisfied: tzdata>=2022.7 in /Users/hallow/Library/Python/3.9/lib/python/site-packages (from pandas->-r requirements.txt (line 2)) (2025.1)\n",
      "Requirement already satisfied: decorator in /Users/hallow/Library/Python/3.9/lib/python/site-packages (from ipython>=7.23.1->ipykernel->-r requirements.txt (line 1)) (5.1.1)\n",
      "Requirement already satisfied: jedi>=0.16 in /Users/hallow/Library/Python/3.9/lib/python/site-packages (from ipython>=7.23.1->ipykernel->-r requirements.txt (line 1)) (0.19.2)\n",
      "Requirement already satisfied: prompt-toolkit<3.1.0,>=3.0.41 in /Users/hallow/Library/Python/3.9/lib/python/site-packages (from ipython>=7.23.1->ipykernel->-r requirements.txt (line 1)) (3.0.50)\n",
      "Requirement already satisfied: pygments>=2.4.0 in /Users/hallow/Library/Python/3.9/lib/python/site-packages (from ipython>=7.23.1->ipykernel->-r requirements.txt (line 1)) (2.19.1)\n",
      "Requirement already satisfied: stack-data in /Users/hallow/Library/Python/3.9/lib/python/site-packages (from ipython>=7.23.1->ipykernel->-r requirements.txt (line 1)) (0.6.3)\n",
      "Requirement already satisfied: typing-extensions in /Users/hallow/Library/Python/3.9/lib/python/site-packages (from ipython>=7.23.1->ipykernel->-r requirements.txt (line 1)) (4.12.2)\n",
      "Requirement already satisfied: exceptiongroup in /Users/hallow/Library/Python/3.9/lib/python/site-packages (from ipython>=7.23.1->ipykernel->-r requirements.txt (line 1)) (1.2.2)\n",
      "Requirement already satisfied: pexpect>4.3 in /Users/hallow/Library/Python/3.9/lib/python/site-packages (from ipython>=7.23.1->ipykernel->-r requirements.txt (line 1)) (4.9.0)\n",
      "Requirement already satisfied: importlib-metadata>=4.8.3 in /Users/hallow/Library/Python/3.9/lib/python/site-packages (from jupyter-client>=6.1.12->ipykernel->-r requirements.txt (line 1)) (8.6.1)\n",
      "Requirement already satisfied: platformdirs>=2.5 in /Users/hallow/Library/Python/3.9/lib/python/site-packages (from jupyter-core!=5.0.*,>=4.12->ipykernel->-r requirements.txt (line 1)) (4.3.6)\n",
      "Requirement already satisfied: six>=1.5 in /Library/Developer/CommandLineTools/Library/Frameworks/Python3.framework/Versions/3.9/lib/python3.9/site-packages (from python-dateutil>=2.8.2->pandas->-r requirements.txt (line 2)) (1.15.0)\n",
      "Requirement already satisfied: zipp>=3.20 in /Users/hallow/Library/Python/3.9/lib/python/site-packages (from importlib-metadata>=4.8.3->jupyter-client>=6.1.12->ipykernel->-r requirements.txt (line 1)) (3.21.0)\n",
      "Requirement already satisfied: parso<0.9.0,>=0.8.4 in /Users/hallow/Library/Python/3.9/lib/python/site-packages (from jedi>=0.16->ipython>=7.23.1->ipykernel->-r requirements.txt (line 1)) (0.8.4)\n",
      "Requirement already satisfied: ptyprocess>=0.5 in /Users/hallow/Library/Python/3.9/lib/python/site-packages (from pexpect>4.3->ipython>=7.23.1->ipykernel->-r requirements.txt (line 1)) (0.7.0)\n",
      "Requirement already satisfied: wcwidth in /Users/hallow/Library/Python/3.9/lib/python/site-packages (from prompt-toolkit<3.1.0,>=3.0.41->ipython>=7.23.1->ipykernel->-r requirements.txt (line 1)) (0.2.13)\n",
      "Requirement already satisfied: executing>=1.2.0 in /Users/hallow/Library/Python/3.9/lib/python/site-packages (from stack-data->ipython>=7.23.1->ipykernel->-r requirements.txt (line 1)) (2.2.0)\n",
      "Requirement already satisfied: asttokens>=2.1.0 in /Users/hallow/Library/Python/3.9/lib/python/site-packages (from stack-data->ipython>=7.23.1->ipykernel->-r requirements.txt (line 1)) (3.0.0)\n",
      "Requirement already satisfied: pure-eval in /Users/hallow/Library/Python/3.9/lib/python/site-packages (from stack-data->ipython>=7.23.1->ipykernel->-r requirements.txt (line 1)) (0.2.3)\n",
      "Note: you may need to restart the kernel to use updated packages.\n"
     ]
    }
   ],
   "source": [
    "pip install -r requirements.txt"
   ]
  },
  {
   "cell_type": "code",
   "execution_count": 60,
   "metadata": {},
   "outputs": [
    {
     "name": "stderr",
     "output_type": "stream",
     "text": [
      "/var/folders/gy/4jfw967n3xbdw156dt425bxr0000gp/T/ipykernel_48887/3959072368.py:3: DtypeWarning: Columns (10) have mixed types. Specify dtype option on import or set low_memory=False.\n",
      "  df = pd.read_csv(\"../../data/data.csv\")\n"
     ]
    }
   ],
   "source": [
    "import pandas as pd\n",
    "\n",
    "df = pd.read_csv(\"../../data/data.csv\")"
   ]
  },
  {
   "cell_type": "code",
   "execution_count": 61,
   "metadata": {},
   "outputs": [],
   "source": [
    "df = df.loc[:, [\"DataValue\", \"LocationAbbr\", \"Topic\", \"YearEnd\", \"YearStart\"]]\n",
    "\n",
    "df = df[(df[\"YearEnd\"].isin([2016])) & (df[\"YearStart\"].isin([2016]))]\n",
    "\n",
    "df[\"DataValue\"] = pd.to_numeric(df[\"DataValue\"], errors=\"coerce\")\n",
    "\n",
    "df = df.dropna()\n",
    "\n",
    "df[\"Percent\"] = df[\"DataValue\"] / df.groupby(\"LocationAbbr\")[\"DataValue\"].transform(\n",
    "    \"sum\"\n",
    ")"
   ]
  },
  {
   "cell_type": "code",
   "execution_count": 62,
   "metadata": {},
   "outputs": [],
   "source": [
    "df.to_csv(\"../../data/csv/jupyter.csv\", index=False)"
   ]
  }
 ],
 "metadata": {
  "kernelspec": {
   "display_name": "Python 3",
   "language": "python",
   "name": "python3"
  },
  "language_info": {
   "codemirror_mode": {
    "name": "ipython",
    "version": 3
   },
   "file_extension": ".py",
   "mimetype": "text/x-python",
   "name": "python",
   "nbconvert_exporter": "python",
   "pygments_lexer": "ipython3",
   "version": "3.9.6"
  }
 },
 "nbformat": 4,
 "nbformat_minor": 2
}
