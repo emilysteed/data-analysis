{
 "cells": [
  {
   "cell_type": "code",
   "execution_count": null,
   "metadata": {
    "vscode": {
     "languageId": "shellscript"
    }
   },
   "outputs": [],
   "source": [
    "pip install -r requirements.txt"
   ]
  },
  {
   "cell_type": "code",
   "execution_count": null,
   "metadata": {},
   "outputs": [],
   "source": [
    "import pandas as pd\n",
    "\n",
    "df = pd.read_csv(\"../../data/data.csv\")"
   ]
  },
  {
   "cell_type": "code",
   "execution_count": 61,
   "metadata": {},
   "outputs": [],
   "source": [
    "df = df.loc[:, [\"DataValue\", \"LocationAbbr\", \"Topic\", \"YearEnd\", \"YearStart\"]]\n",
    "\n",
    "df = df[(df[\"YearEnd\"].isin([2016])) & (df[\"YearStart\"].isin([2016]))]\n",
    "\n",
    "df[\"DataValue\"] = pd.to_numeric(df[\"DataValue\"], errors=\"coerce\")\n",
    "\n",
    "df = df.dropna()\n",
    "\n",
    "df[\"Percent\"] = df[\"DataValue\"] / df.groupby(\"LocationAbbr\")[\"DataValue\"].transform(\n",
    "    \"sum\"\n",
    ")"
   ]
  },
  {
   "cell_type": "code",
   "execution_count": 62,
   "metadata": {},
   "outputs": [],
   "source": [
    "df.to_csv(\"../../data/csv/jupyter.csv\", index=False)"
   ]
  }
 ],
 "metadata": {
  "kernelspec": {
   "display_name": "Python 3",
   "language": "python",
   "name": "python3"
  },
  "language_info": {
   "codemirror_mode": {
    "name": "ipython",
    "version": 3
   },
   "file_extension": ".py",
   "mimetype": "text/x-python",
   "name": "python",
   "nbconvert_exporter": "python",
   "pygments_lexer": "ipython3",
   "version": "3.9.6"
  }
 },
 "nbformat": 4,
 "nbformat_minor": 2
}
